{
 "cells": [
  {
   "cell_type": "code",
   "execution_count": null,
   "id": "6639a3c5",
   "metadata": {
    "vscode": {
     "languageId": "plaintext"
    }
   },
   "outputs": [],
   "source": [
    "import pooch\n",
    "from pooch import Unzip\n",
    "\n",
    "import pathlib\n",
    "\n",
    "\n",
    "root_dir = pathlib.Path(__file__).parent\n",
    "root_directory = root_dir.parent\n",
    "data_directory = root_directory.joinpath(\"geokit\", \"data\")\n",
    "bathymetry_data_handler = pooch.create(\n",
    "    path=data_directory, base_url=\"doi:10.5281/zenodo.17047388\", registry=None, version_dev=None, retry_if_failed=5\n",
    ")\n",
    "\n",
    "# Automatically populate the registry so there is no need\n",
    "# to register the files and hashes manually.\n",
    "bathymetry_data_handler.load_registry_from_doi()\n",
    "\n",
    "bathymetry_rasters_dir = str(data_directory.joinpath(\"gebco_tiles\"))\n",
    "# Fetch one of the files in the repository\n",
    "unpack_zones_archive = Unzip(extract_dir=bathymetry_rasters_dir)\n",
    "# Download and cache the offshore gebco dataset\n",
    "bathymetry_data_handler.fetch(\"gebco_tiles.zip\", processor=unpack_zones_archive)"
   ]
  }
 ],
 "metadata": {
  "language_info": {
   "name": "python"
  }
 },
 "nbformat": 4,
 "nbformat_minor": 5
}
